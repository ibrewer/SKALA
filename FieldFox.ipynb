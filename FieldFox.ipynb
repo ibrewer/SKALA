{
 "cells": [
  {
   "cell_type": "code",
   "execution_count": 1,
   "id": "5267338b",
   "metadata": {},
   "outputs": [],
   "source": [
    "#######################################################################################\n",
    "# Python code to take data with FieldFox Handheld portable combination analyzer       #\n",
    "# Requires VISA installed on controlling PC, 'http://pyvisa.sourceforge.net/pyvisa/'  #\n",
    "# Keysight IO Libraries 18.1.22x 32-Bit Keysight VISA (as primary)                    #\n",
    "# Anaconda Python 4.4.0 32 bit                                                        #\n",
    "# pyvisa 3.6.x                                                                        #\n",
    "# Currently using a mini-USB connection                                               #\n",
    "#######################################################################################\n"
   ]
  },
  {
   "cell_type": "code",
   "execution_count": 3,
   "id": "744af163",
   "metadata": {},
   "outputs": [],
   "source": [
    "import pyvisa\n",
    "import os\n",
    "import numpy as np\n",
    "import matplotlib.pyplot as plt\n",
    "import time"
   ]
  },
  {
   "cell_type": "code",
   "execution_count": 3,
   "id": "4fb7bfdc",
   "metadata": {},
   "outputs": [],
   "source": [
    "# Open a VISA resource manager pointing to the installation folder for the Keysight Visa libraries.\n",
    "rm = pyvisa.ResourceManager('/opt/keysight/iolibs/libktvisa32.so')\n",
    "# Based on the resource manager, open a session to a specific VISA resource string as provided via Keysight \n",
    "# Connection Expert\n",
    "myFieldFox = rm.open_resource(\"USB0::0x2A8D::0x5C18::MY61262579::0::INSTR\") "
   ]
  },
  {
   "cell_type": "code",
   "execution_count": 4,
   "id": "0aaf8594",
   "metadata": {},
   "outputs": [],
   "source": [
    "# Define Error Check Function\n",
    "def Errcheck():\n",
    "    myError = []\n",
    "    ErrorList = myFieldFox.query(\"SYST:ERR?\").split(',')\n",
    "    Error = ErrorList[0]\n",
    "    if int(Error) == 0:\n",
    "        print(\"+0, No Error!\")\n",
    "    else:\n",
    "        while int(Error)!=0:\n",
    "            print(\"Error #: \" + ErrorList[0])\n",
    "            print(\"Error Description: \" + ErrorList[1])\n",
    "            myError.append(ErrorList[0])\n",
    "            myError.append(ErrorList[1])\n",
    "            ErrorList = myFieldFox.query(\"SYST:ERR?\").split(',')\n",
    "            Error = ErrorList[0]\n",
    "            myError = list(myError)\n",
    "    return myError"
   ]
  },
  {
   "cell_type": "code",
   "execution_count": 5,
   "id": "a4c53c8a",
   "metadata": {},
   "outputs": [],
   "source": [
    "def set_initial_params(output_pow, points, avg_sweep, myFieldFox):\n",
    "    \"\"\" \n",
    "    output_pow = str; +/- output power in dB, ex. '-60'\n",
    "    points = str; number of points per sweep\n",
    "    avg_sweep = str; average number of sweeps\n",
    "    \"\"\"\n",
    "    ## Set some initial parameters, query *IDN?\n",
    "    myFieldFox.timeout = 10000 #Set Timeout - 10 seconds\n",
    "    myFieldFox.write(\"*CLS\") # Clear the event status registers and empty the error queue\n",
    "    myFieldFox.write(\"*IDN?\") # Query identification string *IDN?\n",
    "    print(\"FieldFox Version:\" + myFieldFox.read())\n",
    "    # Preset the FieldFox and wait for operation complete via the *OPC?, i.e. the operation complete query.\n",
    "    myFieldFox.write(\"SYST:PRES;*OPC?\")\n",
    "    print(\"Preset complete, *OPC? returned : \" + myFieldFox.read())\n",
    "    myFieldFox.write(\"INST:SEL 'NA';*OPC?\") # Set mode to Network Analyzer and wait for operation complete via the *OPC?\n",
    "    myFieldFox.read()\n",
    "    myFieldFox.write('SOUR:POW '+output_pow) # Set the output power to -60 dB\n",
    "    myFieldFox.write(\"CALC:PAR:DEF S21\") # Measure the S21 parameter\n",
    "    ## Set the start and stop frequency and print out the values\n",
    "    myFieldFox.write(\"FREQ:STAR MIN\") # Set the starting frequency to a miminum\n",
    "    myFieldFox.write(\"SENS:FREQ:START?\") # Query to make sure it is working\n",
    "    startFreq = myFieldFox.read().strip('\\n') # Save the starting frequency\n",
    "    myFieldFox.write(\"FREQ:STOP 500e6\") # Set the stopping frequency to 500 MHz\n",
    "    myFieldFox.write(\"SENS:FREQ:STOP?\") # Query\n",
    "    stopFreq = myFieldFox.read().strip('\\n') # Save stop value\n",
    "    print(\"FieldFox start frequency = \" + startFreq + \", stop frequency = \" + stopFreq)\n",
    "    myFieldFox.write(\"SWE:POIN \"+points) # Set number of points in a sweep\n",
    "    myFieldFox.write(\"SENS:SWE:POIN?\") # Query to make sure it's set correctly\n",
    "    numPoints = myFieldFox.read().strip('\\n') # Save the number of points in a sweep\n",
    "    print(\"Number of trace points = \" + numPoints)\n",
    "    myFieldFox.write(\"AVER:COUNt \"+avg_sweep) # Set averaging to 50 sweeps\n",
    "    myFieldFox.write(\"AVER:CLE\") # Clear sweeps\n",
    "    freqs = np.linspace(int(startFreq), int(stopFreq), int(numPoints)) # Create an array of freqs\n",
    "    \n",
    "    return freqs, numPoints"
   ]
  },
  {
   "cell_type": "code",
   "execution_count": 6,
   "id": "818ef58a",
   "metadata": {},
   "outputs": [],
   "source": [
    "def take_data(no_of_traces, numPoints, myFieldFox):\n",
    "\n",
    "    no_of_traces = 10 # How many traces you want to take\n",
    "    trace_array = np.zeros((no_of_traces, int(numPoints)))\n",
    "\n",
    "    for i in range(no_of_traces):\n",
    "        time.sleep(1) # Wait for all sweeps to occur\n",
    "        # Once you've waited a while, hold\n",
    "        myFieldFox.write(\"INIT:CONT 0;*OPC?\") # Hold\n",
    "        myFieldFox.read()\n",
    "        myFieldFox.write(\"INIT:IMMediate;*OPC?\") # Trigger on a measurement\n",
    "        myFieldFox.read()\n",
    "        myFieldFox.write(\"CALC:SMO 1\") # Apply smoothing I think\n",
    "        myFieldFox.write(\"CALC:DATA:FDATa?\") # Read data from selected trace\n",
    "        trace = myFieldFox.read() # Save that data\n",
    "        # Clean up the data, save the trace as an array of floats\n",
    "        trace = trace.split(',')\n",
    "        for m in range(len(trace)):\n",
    "            if '\\n' in trace[m]:\n",
    "                trace[m].strip('\\n')\n",
    "            trace[m] = float(trace[m])\n",
    "        trace = np.array(trace)\n",
    "        trace_array[i] = trace\n",
    "        print(\"%d / %d traces complete...\"%(i, no_of_traces))\n",
    "        myFieldFox.write(\"INIT:CONT ON\") # Continue sweeping, run in continuous mode\n",
    "        myFieldFox.write(\"AVER:CLE\") # Reset your sweep\n",
    "        \n",
    "    return trace_array"
   ]
  },
  {
   "cell_type": "code",
   "execution_count": 12,
   "id": "6052d0f1",
   "metadata": {},
   "outputs": [],
   "source": [
    "def plot_data(freqs, data, title):\n",
    "    \"\"\"\n",
    "    freqs = 1-D array; Range of frequencies covered by FieldFox\n",
    "    data = array; Data taken with FieldFox (size = number of traces x number of points)\n",
    "    title = str; Save this file!\n",
    "    \"\"\"\n",
    "    plt.figure(figsize=(10,8))\n",
    "    for trace in data:\n",
    "        plt.plot(freqs, trace)\n",
    "    plt.xlabel('Frequency (MHz)', fontsize=22)\n",
    "    plt.ylabel('dB',fontsize=22)\n",
    "    plt.xticks(fontsize=15)\n",
    "    plt.yticks(fontsize=15)\n",
    "    plt.savefig(title+'.png')\n",
    "    plt.show()\n",
    "    \n",
    "    return"
   ]
  },
  {
   "cell_type": "code",
   "execution_count": 11,
   "id": "6d5a6100",
   "metadata": {},
   "outputs": [
    {
     "name": "stdout",
     "output_type": "stream",
     "text": [
      "+0, No Error!\n",
      "[]\n"
     ]
    }
   ],
   "source": [
    "# Call and print error check results\n",
    "print(Errcheck())"
   ]
  },
  {
   "cell_type": "code",
   "execution_count": 8,
   "id": "9320a00a",
   "metadata": {},
   "outputs": [
    {
     "name": "stdout",
     "output_type": "stream",
     "text": [
      "FieldFox Version:Keysight Technologies,N9913B,MY61262579,A.12.20\n",
      "\n",
      "Preset complete, *OPC? returned : 1\n",
      "\n",
      "FieldFox start frequency = 30000, stop frequency = 500000000\n",
      "Number of trace points = 450\n",
      "0 / 10 traces complete...\n",
      "1 / 10 traces complete...\n",
      "2 / 10 traces complete...\n",
      "3 / 10 traces complete...\n",
      "4 / 10 traces complete...\n",
      "5 / 10 traces complete...\n",
      "6 / 10 traces complete...\n",
      "7 / 10 traces complete...\n",
      "8 / 10 traces complete...\n",
      "9 / 10 traces complete...\n"
     ]
    },
    {
     "ename": "NameError",
     "evalue": "name 'trace_array' is not defined",
     "output_type": "error",
     "traceback": [
      "\u001b[0;31m---------------------------------------------------------------------------\u001b[0m",
      "\u001b[0;31mNameError\u001b[0m                                 Traceback (most recent call last)",
      "Input \u001b[0;32mIn [8]\u001b[0m, in \u001b[0;36m<cell line: 3>\u001b[0;34m()\u001b[0m\n\u001b[1;32m      1\u001b[0m freqs, numPoints \u001b[38;5;241m=\u001b[39m set_initial_params(\u001b[38;5;124m'\u001b[39m\u001b[38;5;124m-60\u001b[39m\u001b[38;5;124m'\u001b[39m, \u001b[38;5;124m'\u001b[39m\u001b[38;5;124m450\u001b[39m\u001b[38;5;124m'\u001b[39m, \u001b[38;5;124m'\u001b[39m\u001b[38;5;124m50\u001b[39m\u001b[38;5;124m'\u001b[39m, myFieldFox)\n\u001b[1;32m      2\u001b[0m trace_data \u001b[38;5;241m=\u001b[39m take_data(\u001b[38;5;241m10\u001b[39m, numPoints, myFieldFox)\n\u001b[0;32m----> 3\u001b[0m plot_data(freqs, \u001b[43mtrace_array\u001b[49m, \u001b[38;5;124m'\u001b[39m\u001b[38;5;124mLNA_10628\u001b[39m\u001b[38;5;124m'\u001b[39m)\n",
      "\u001b[0;31mNameError\u001b[0m: name 'trace_array' is not defined"
     ]
    }
   ],
   "source": [
    "freqs, numPoints = set_initial_params('-60', '450', '50', myFieldFox)\n",
    "trace_data = take_data(10, numPoints, myFieldFox)\n",
    "plot_data(freqs, trace_array, 'LNA_10628')"
   ]
  },
  {
   "cell_type": "code",
   "execution_count": 13,
   "id": "491e06dd",
   "metadata": {},
   "outputs": [
    {
     "data": {
      "image/png": "[encoded data removed]",
      "text/plain": [
       "<Figure size 720x576 with 1 Axes>"
      ]
     },
     "metadata": {
      "needs_background": "light"
     },
     "output_type": "display_data"
    }
   ],
   "source": [
    "plot_data(freqs, trace_data, 'LNA_10628')"
   ]
  },
  {
   "cell_type": "code",
   "execution_count": 2,
   "id": "55d390bb",
   "metadata": {},
   "outputs": [],
   "source": [
    "import h5py"
   ]
  },
  {
   "cell_type": "code",
   "execution_count": 4,
   "id": "f2e88c6a",
   "metadata": {},
   "outputs": [
    {
     "name": "stdout",
     "output_type": "stream",
     "text": [
      "<KeysViewHDF5 ['freq_vals', 'power_val', 'trace_data']>\n"
     ]
    }
   ],
   "source": [
    "with h5py.File('/home/radioantenna/kansas_data/losses/014_average.hdf5', 'r') as f:\n",
    "    freqs = np.array(f['freq_vals'])\n",
    "    traces = np.array(f['trace_data'])\n",
    "    power = np.array(f['power_val'])\n",
    "    print(f.keys())"
   ]
  },
  {
   "cell_type": "code",
   "execution_count": 5,
   "id": "385f733b",
   "metadata": {},
   "outputs": [
    {
     "data": {
      "image/png": "[encoded data removed]",
      "text/plain": [
       "<Figure size 720x576 with 1 Axes>"
      ]
     },
     "metadata": {
      "needs_background": "light"
     },
     "output_type": "display_data"
    }
   ],
   "source": [
    "plt.figure(figsize=(10,8))\n",
    "for trace in traces:\n",
    "    plt.plot(freqs, trace)"
   ]
  },
  {
   "cell_type": "code",
   "execution_count": 6,
   "id": "b9efcd00",
   "metadata": {},
   "outputs": [],
   "source": [
    "f.close()"
   ]
  },
  {
   "cell_type": "code",
   "execution_count": 26,
   "id": "39396589",
   "metadata": {},
   "outputs": [],
   "source": [
    "file = open('/home/radioantenna/001_statistics.txt') "
   ]
  },
  {
   "cell_type": "code",
   "execution_count": 27,
   "id": "b6f395ae",
   "metadata": {
    "scrolled": true
   },
   "outputs": [
    {
     "data": {
      "text/plain": [
       "'-2.218154109999999957e+00 2.992401263999999728e-01 -1.567607558000000123e-01 9.513960863999999518e-01 -4.880019039999999864e-01 4.970793329999999982e-02 -1.283993286000000067e+00 1.973882783999999946e+00 -7.686014577999999986e-01 -1.213702719999999902e+00 -3.344605169999999905e+00 -8.470167177999999852e-01 -2.198328635999999836e+00 -2.154479415999999981e-01 -2.865232965999999770e-01 -6.669882355999999790e-01 -4.783732029999999968e-02 -8.339183382000000533e-01 1.466456411000000015e-01 1.298143765000000061e+00 -1.947839960000000148e-02 1.520287345000000123e-01 4.749553318000000246e+00 -6.505430819999999392e-02 -1.085737960999999974e+00 -7.622748791000000246e-01 -5.797427940999999585e-01 7.086341143000000065e-01 -2.523218838000000019e+00 -1.375586066000000107e+00 -1.506522166000000107e+00 -5.561983928999999494e-01 1.724373117999999927e-01 -6.721324739999999520e-02 -2.251191566999999782e+00 -1.875884704000000125e-01 2.413122692000000125e-01 -1.518983477999999998e+00 -1.428668881999999973e+00 1.630570773999999945e+00 -6.636454428000000405e-01 -1.824338803999999925e+00 -1.643340269000000076e+00 6.507565363999999741e-01 -2.797210712000000044e+00 1.118031736000000054e+00 -1.191313853999999894e+00 -7.296016812000000185e-01 -8.315114443000000133e-01 -1.420566090999999975e+00 -1.453802296999999966e+00 -2.346362522000000173e+00 -1.593100689999999986e+00 -5.337274634999999989e-01 6.244621226000000025e-01 -2.873265476999999901e+00 -3.010539425999999796e+00 -1.659656148000000053e+00 -2.616121628999999782e+00 -2.072103988999999924e+00 -1.169741629000000005e+00 -2.670118389000000203e+00 -1.121364957999999995e-01 -1.706852868999999995e+00 -2.186419089000000149e+00 9.449965850000000001e-02 -5.171187360000000233e-01 -6.586819014000000472e-01 -8.568533395999999858e-01 -2.287577739000000054e+00 -1.617258839000000004e+00 -2.108727022000000062e+00 -9.988252350000000057e-02 -2.499212019999999868e+00 -1.675155019000000023e-01 -2.679333265999999991e+00 -2.408433302999999803e+00 -2.267645250000000168e+00 -2.118210130000000024e+00 -1.971397067999999919e+00 8.624316680000000679e-02 -1.938211590999999956e+00 -3.044624129999999873e+00 -1.572566232000000008e+00 -4.659837821000000213e-01 -3.140371513999999920e+00 -3.963783500999999987e+00 -6.228366119999999978e-02 -3.102827100999999921e+00 -1.185585163999999914e+00 -1.561029886999999894e+00 -1.445853502000000068e+00 -2.289902298999999974e+00 1.418179237999999953e-01 -3.409859058999999970e+00 -1.682474368000000053e+00 -1.684460934000000076e+00 -2.852563232000000060e+00 -1.269124115999999969e+00 -2.932423894999999892e+00 -2.543223676000000211e+00 -3.254176718000000079e+00 -1.955786892999999971e+00 -2.291774129000000215e+00 -2.657816797000000175e+00 2.677175433000000271e-01 -2.030903551999999834e+00 1.051377285999999911e+00 -1.548939378000000033e+00 -2.440959052999999823e+00 -2.118326812999999920e+00 -1.127933481999999987e+00 -2.259761580000000158e+00 -2.635841590000000068e+00 -9.396160499000000277e-01 -3.280305346000000011e+00 -1.509062879000000024e+00 -3.553268302999999850e+00 -1.053809886000000029e+00 -3.304318508999999793e+00 -3.074643266999999902e+00 -2.392926624999999863e+00 -1.691090076999999914e+00 -1.302888375000000043e-01 -3.320614404000000075e+00 -3.749809051000000171e+00 -1.615826315000000069e+00 -1.404765038999999938e+00 -1.292453450000000004e+00 -9.596372921000000389e-01 -2.534515196000000081e+00 -4.023812026999999958e-01 -3.820797574000000196e+00 3.405938964999999929e-01 -2.548377085999999903e+00 -2.228001831999999904e+00 -2.530718677999999944e+00 1.184223868000000013e-01 -1.949288681000000079e+00 -2.605015369000000192e+00 -2.909858175000000102e+00 -3.659348545999999924e+00 -2.731421656000000198e+00 -2.711572476000000176e+00 -3.727236593999999847e+00 -8.261643838000000128e-01 -2.567630999999999997e+00 -1.636640939999999933e+00 -2.834305327000000041e+00 -1.739657849000000089e+00 -1.148404991999999902e+00 -2.136372655000000065e-01 -1.333508740999999942e+00 -9.020773430999999842e-01 -4.279709719000000412e+00 -4.935369774999999848e+00 -2.634654691000000160e+00 -2.428402934999999818e+00 -2.693383438000000130e+00 -1.839261331000000110e+00 -3.118444408999999862e+00 -2.067683450000000089e+00 -3.297629575999999840e+00 -2.209172695999999991e+00 -2.039468261000000116e+00 -3.791996779999999845e+00 -1.663233257999999992e+00 -2.257555339000000050e+00 -3.186669481000000026e+00 -9.731073863000000435e-01 -3.752966074000000152e+00 -1.054290678999999953e+00 -1.260463136999999900e+00 -5.009187727999999673e+00 -1.785792636999999905e+00 -3.490281250999999862e+00 -1.484053915999999917e+00 -3.021310947999999996e+00 -1.532533576999999925e+00 -2.575865574999999907e+00 -3.598997821999999847e+00 -3.038862927999999908e+00 -2.343002042999999812e+00 -1.648848982999999935e+00 -6.868961864000000528e-01 -2.420512446000000040e+00 -2.642700738999999910e+00 -8.833099331000000554e-01 -2.684301630000000216e+00 -4.612769888999999957e+00 -3.126138693000000135e+00 -2.026173088000000178e+00 -1.591371158000000063e+00 -8.841265624999999906e-01 -4.245182001999999954e+00 -6.018158345999999881e-01 -3.810348196000000076e+00 -2.258795050999999887e+00 -2.716791794000000149e+00 -2.354414783999999816e+00 -3.054941408999999997e+00 -2.659611732000000117e+00 -5.678876830000000042e-02 -1.175483352000000092e+00 -2.795840037000000056e+00 -1.949232046999999968e+00 -2.607130036000000040e+00 -3.961562620000000035e+00 -4.398776277999999706e+00 -2.601130754000000156e+00 -3.522865350000000007e+00 -2.259230104999999877e+00 -3.530498784000000168e+00 -5.059681309000000127e+00 -2.678457188999999961e+00 -1.375214732000000106e+00 -3.489318947000000115e+00 -2.484942436999999948e+00 -3.932114609000000094e+00 -1.835438397000000110e+00 -2.714705053999999951e+00 -2.331804019999999866e+00 -3.318137210999999809e+00 -3.351321341999999870e+00 -2.491307055000000048e+00 -1.504616928999999992e+00 -2.999636297999999979e+00 -4.520367593999999656e+00 -3.972494592999999963e+00 -2.839103661999999861e+00 -5.472069773000000303e+00 -3.657458761000000003e+00 -1.622315820000000075e+00 -2.701684599000000020e+00 -1.949307149000000017e+00 -4.904578780999999665e+00 -2.568122736999999933e+00 -3.923482083000000120e+00 -3.531581903000000189e+00 -2.403868430000000167e+00 -4.172284452999999615e+00 -4.342868043000000178e+00 -2.552066806000000021e+00 -1.740765934999999986e+00 -1.613015834999999898e+00 -4.931516193000000214e+00 -2.237674752000000211e+00 -4.744895338000000073e+00 -3.805955902000000002e+00 -4.082746056999999595e+00 -2.292003921000000055e+00 -1.916596916000000039e+00 -2.896552541000000147e+00 -3.439793245999999804e+00 -3.994036212999999780e+00 -2.841294303999999826e+00 -3.241247958999999845e+00 -3.601140979999999825e+00 -3.371240664000000109e+00 -3.442190255999999948e+00 -5.050403873999999682e+00 -2.115560466999999889e+00 -1.382315098000000075e+00 -4.490324178999999916e+00 -4.266399821000000259e+00 -3.851089255000000211e+00 -3.504122543999999895e+00 -3.893078379999999949e+00 -4.789926181000000227e+00 -2.500213476999999962e+00 -3.702367623999999857e+00 -2.567575158999999996e+00 -3.874873576000000153e+00 -1.860410628999999982e+00 -2.745754435999999910e+00 -2.861678019999999822e+00 -2.479982784999999801e+00 -3.579916107999999930e+00 -2.220539331999999977e+00 -1.785404516999999913e+00 -3.967013231000000140e+00 -4.668341833000000385e+00 -3.625833998000000058e+00 -4.089970941999999887e+00 -2.344127933999999858e+00 -2.474584718000000017e+00 -2.420357844000000203e+00 -2.463543506000000161e+00 -3.935709133000000026e+00 -4.434319058999999896e+00 -2.844597448000000028e+00 -2.491524888999999909e+00 -4.700448643999999732e+00 -5.568943819000000239e+00 -4.243582896000000382e+00 -4.779723062999999605e+00 -2.121432056999999816e+00 -3.559475379999999856e+00 -3.999739019999999812e+00 -2.263042710000000124e+00 -3.058882200000000218e+00 -4.028069990999999739e+00 -3.605431450000000204e+00 -3.502089149000000123e+00 -4.267996697000000061e+00 -3.717672310999999841e+00 -2.786879612999999978e+00 -4.336356826000000275e+00 -1.622760033000000046e+00 -2.126404991999999883e+00 -1.968762732999999931e+00 -4.351585155999999621e+00 -1.264032161999999904e+00 -3.157838440999999996e+00 -3.895634790999999986e+00 -2.981064892000000022e+00 -2.643961969999999884e+00 -1.243624647999999944e+00 -2.336412750000000038e+00 -4.903202659999999824e+00 -5.125454928999999993e+00 -1.642837877999999918e+00 -3.755196248999999931e+00 -2.647369723000000175e+00 -5.846637066000000438e+00 -5.518132003999999924e+00 -3.776449605999999903e+00 -3.039549896000000029e+00 -3.606676962999999958e+00 -2.806358128999999924e+00 -2.768806210000000156e+00 -3.305056830999999917e+00 -4.485403705000000407e+00 -3.319207362999999855e+00 -3.571997351999999903e+00 -2.259421356999999908e+00 -3.159734391000000198e+00 -3.614427637999999998e+00 -3.557198306000000088e+00 -3.512252917000000085e+00 -4.046142807999999924e+00 -3.261374605999999954e+00 -2.636389776000000129e+00 -3.011090036000000136e+00 -3.884381391999999877e+00 -4.513090799000000430e+00 -3.631801020000000157e+00 -1.884131533999999997e+00 -4.717599101000000239e+00 -8.946372084999999474e-01 -2.381659400999999843e+00 -4.649653838999999955e+00 -3.957103297999999825e+00 -4.994055569000000361e+00 -6.070640884000000348e+00 -4.884652057000000269e+00 -2.586155461999999794e+00 -4.381615573000000374e+00 -4.608436328999999887e+00 -4.751032336999999828e+00 -2.679109793999999933e+00 -3.048232661000000121e+00 -4.482730860000000206e+00 -3.092896666000000128e+00 -4.305647568000000369e+00 -3.761219076000000161e+00 -2.530869769000000158e+00 -3.741790779000000011e+00 -2.121956582999999785e+00 -5.348571227999999955e+00 -3.461890965999999903e+00 -3.983059528000000071e+00 -3.658854803000000100e+00 -2.073811055999999819e+00 -3.960370956000000220e+00 -5.711025677000000300e+00 -1.271745641000000093e+00 -4.051959352999999986e+00 -4.343195159999999611e+00 -2.939896785000000179e+00 -4.031513228999999754e+00 -3.940452785999999819e+00 -2.856696916999999836e+00 -3.677337189000000173e+00 -4.062331084000000203e+00 -2.483086575999999823e+00 -2.815030343000000101e+00 -4.971901049000000405e+00 -1.446856299000000012e+00 -3.360350867000000186e+00 -4.724202789999999652e+00 -3.117816883000000150e+00 -2.134269648000000075e+00 -5.010686337000000101e+00 -4.372809335000000353e+00 -2.227907979999999899e+00 -3.610055444999999974e+00 -3.059880134000000140e+00 -5.780065536000000392e+00 -4.422213411000000427e+00 -2.874124135999999829e+00 -4.513612528000000346e+00 -5.431221447999999619e+00 -3.871936767999999862e+00 -5.479249547000000220e+00 -1.074080324999999947e+00 -3.578249514999999992e+00 -3.469553011999999992e+00 -8.933134807999999483e-01 -4.315765050000000436e+00 -4.945255275000000061e+00 -4.365011022000000018e+00 -5.157729075999999857e+00 -3.969367694999999863e+00 -4.973722110999999835e+00 -4.149147919999999878e+00 -5.905265016000000422e+00 -5.194426854999999676e+00 -4.809879791000000182e+00 -3.941932630999999798e+00 -2.333509679000000059e+00 -4.155962955999999764e+00 -3.990793479999999782e+00 -3.606535032000000029e+00 -2.472258057999999981e+00 -3.370211782000000156e+00 -5.736418529999999905e+00 -5.009146388999999644e+00 -3.564750342999999932e-01 -4.946078421000000169e+00 -3.823040189999999949e+00 -4.086516986000000351e+00 -2.125236729000000047e+00 -5.576577284999999939e+00 -4.414378246000000061e+00 -5.097960798999999987e+00 -2.129331597999999826e+00 -2.601473517000000069e+00 -3.388044231999999933e+00 -4.098801747999999634e+00 -3.154781766000000154e+00 -5.015277726999999963e+00 -3.715820263999999984e+00 -2.599806248999999791e+00 -4.461960816999999579e+00 -3.942666099999999840e+00 -3.816682779999999831e+00 -3.905277122000000212e+00 -2.968928059000000008e+00 -3.688700722000000098e+00\\n'"
      ]
     },
     "execution_count": 27,
     "metadata": {},
     "output_type": "execute_result"
    }
   ],
   "source": [
    "file.readline()"
   ]
  },
  {
   "cell_type": "code",
   "execution_count": 36,
   "id": "732b1237",
   "metadata": {},
   "outputs": [
    {
     "name": "stdout",
     "output_type": "stream",
     "text": [
      "00:01\r"
     ]
    }
   ],
   "source": [
    "t = 50\n",
    "\n",
    "while t:\n",
    "    mins, secs = divmod(t, 60)\n",
    "    timer = '{:02d}:{:02d}'.format(mins, secs)\n",
    "    print(timer, end=\"\\r\")\n",
    "    time.sleep(1)\n",
    "    t -= 1"
   ]
  },
  {
   "cell_type": "code",
   "execution_count": null,
   "id": "00535c1c",
   "metadata": {},
   "outputs": [],
   "source": []
  }
 ],
 "metadata": {
  "kernelspec": {
   "display_name": "Python 3 (ipykernel)",
   "language": "python",
   "name": "python3"
  },
  "language_info": {
   "codemirror_mode": {
    "name": "ipython",
    "version": 3
   },
   "file_extension": ".py",
   "mimetype": "text/x-python",
   "name": "python",
   "nbconvert_exporter": "python",
   "pygments_lexer": "ipython3",
   "version": "3.9.12"
  }
 },
 "nbformat": 4,
 "nbformat_minor": 5
}
